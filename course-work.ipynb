{
 "cells": [
  {
   "cell_type": "markdown",
   "id": "48030d0f",
   "metadata": {},
   "source": [
    "# Курсовая работа по Data Science"
   ]
  },
  {
   "cell_type": "markdown",
   "id": "c2830148",
   "metadata": {},
   "source": [
    "Импортируем библиотеки"
   ]
  },
  {
   "cell_type": "code",
   "execution_count": 1,
   "id": "db347887",
   "metadata": {},
   "outputs": [],
   "source": [
    "import numpy as np\n",
    "import pandas as pd\n",
    "import matplotlib.pyplot as plt\n",
    "import seaborn as sns\n",
    "%matplotlib inline"
   ]
  },
  {
   "cell_type": "markdown",
   "id": "864b703a",
   "metadata": {},
   "source": [
    "Пропишем путь к датасету"
   ]
  },
  {
   "cell_type": "code",
   "execution_count": 2,
   "id": "6d38a3fd",
   "metadata": {},
   "outputs": [],
   "source": [
    "TRAIN_DATA_PATH = './real-estate-price-prediction-moscow/train.csv'\n",
    "TEST_DATA_PATH = './real-estate-price-prediction-moscow/test.csv'"
   ]
  },
  {
   "cell_type": "markdown",
   "id": "2cdd4e73",
   "metadata": {},
   "source": [
    "Откроем тренировочный датасет"
   ]
  },
  {
   "cell_type": "code",
   "execution_count": 3,
   "id": "43b29d69",
   "metadata": {},
   "outputs": [
    {
     "data": {
      "text/html": [
       "<div>\n",
       "<style scoped>\n",
       "    .dataframe tbody tr th:only-of-type {\n",
       "        vertical-align: middle;\n",
       "    }\n",
       "\n",
       "    .dataframe tbody tr th {\n",
       "        vertical-align: top;\n",
       "    }\n",
       "\n",
       "    .dataframe thead th {\n",
       "        text-align: right;\n",
       "    }\n",
       "</style>\n",
       "<table border=\"1\" class=\"dataframe\">\n",
       "  <thead>\n",
       "    <tr style=\"text-align: right;\">\n",
       "      <th></th>\n",
       "      <th>Id</th>\n",
       "      <th>DistrictId</th>\n",
       "      <th>Rooms</th>\n",
       "      <th>Square</th>\n",
       "      <th>LifeSquare</th>\n",
       "      <th>KitchenSquare</th>\n",
       "      <th>Floor</th>\n",
       "      <th>HouseFloor</th>\n",
       "      <th>HouseYear</th>\n",
       "      <th>Ecology_1</th>\n",
       "      <th>Ecology_2</th>\n",
       "      <th>Ecology_3</th>\n",
       "      <th>Social_1</th>\n",
       "      <th>Social_2</th>\n",
       "      <th>Social_3</th>\n",
       "      <th>Healthcare_1</th>\n",
       "      <th>Helthcare_2</th>\n",
       "      <th>Shops_1</th>\n",
       "      <th>Shops_2</th>\n",
       "      <th>Price</th>\n",
       "    </tr>\n",
       "  </thead>\n",
       "  <tbody>\n",
       "    <tr>\n",
       "      <th>0</th>\n",
       "      <td>11809</td>\n",
       "      <td>27</td>\n",
       "      <td>3.0</td>\n",
       "      <td>115.027311</td>\n",
       "      <td>NaN</td>\n",
       "      <td>10.0</td>\n",
       "      <td>4</td>\n",
       "      <td>10.0</td>\n",
       "      <td>2014</td>\n",
       "      <td>0.075424</td>\n",
       "      <td>B</td>\n",
       "      <td>B</td>\n",
       "      <td>11</td>\n",
       "      <td>3097</td>\n",
       "      <td>0</td>\n",
       "      <td>NaN</td>\n",
       "      <td>0</td>\n",
       "      <td>0</td>\n",
       "      <td>B</td>\n",
       "      <td>305018.871089</td>\n",
       "    </tr>\n",
       "    <tr>\n",
       "      <th>1</th>\n",
       "      <td>3013</td>\n",
       "      <td>22</td>\n",
       "      <td>1.0</td>\n",
       "      <td>39.832524</td>\n",
       "      <td>23.169223</td>\n",
       "      <td>8.0</td>\n",
       "      <td>7</td>\n",
       "      <td>8.0</td>\n",
       "      <td>1966</td>\n",
       "      <td>0.118537</td>\n",
       "      <td>B</td>\n",
       "      <td>B</td>\n",
       "      <td>30</td>\n",
       "      <td>6207</td>\n",
       "      <td>1</td>\n",
       "      <td>1183.0</td>\n",
       "      <td>1</td>\n",
       "      <td>0</td>\n",
       "      <td>B</td>\n",
       "      <td>177734.553407</td>\n",
       "    </tr>\n",
       "    <tr>\n",
       "      <th>2</th>\n",
       "      <td>8215</td>\n",
       "      <td>1</td>\n",
       "      <td>3.0</td>\n",
       "      <td>78.342215</td>\n",
       "      <td>47.671972</td>\n",
       "      <td>10.0</td>\n",
       "      <td>2</td>\n",
       "      <td>17.0</td>\n",
       "      <td>1988</td>\n",
       "      <td>0.025609</td>\n",
       "      <td>B</td>\n",
       "      <td>B</td>\n",
       "      <td>33</td>\n",
       "      <td>5261</td>\n",
       "      <td>0</td>\n",
       "      <td>240.0</td>\n",
       "      <td>3</td>\n",
       "      <td>1</td>\n",
       "      <td>B</td>\n",
       "      <td>282078.720850</td>\n",
       "    </tr>\n",
       "    <tr>\n",
       "      <th>3</th>\n",
       "      <td>2352</td>\n",
       "      <td>1</td>\n",
       "      <td>1.0</td>\n",
       "      <td>40.409907</td>\n",
       "      <td>NaN</td>\n",
       "      <td>1.0</td>\n",
       "      <td>10</td>\n",
       "      <td>22.0</td>\n",
       "      <td>1977</td>\n",
       "      <td>0.007122</td>\n",
       "      <td>B</td>\n",
       "      <td>B</td>\n",
       "      <td>1</td>\n",
       "      <td>264</td>\n",
       "      <td>0</td>\n",
       "      <td>NaN</td>\n",
       "      <td>0</td>\n",
       "      <td>1</td>\n",
       "      <td>B</td>\n",
       "      <td>168106.007630</td>\n",
       "    </tr>\n",
       "  </tbody>\n",
       "</table>\n",
       "</div>"
      ],
      "text/plain": [
       "      Id  DistrictId  Rooms      Square  LifeSquare  KitchenSquare  Floor  \\\n",
       "0  11809          27    3.0  115.027311         NaN           10.0      4   \n",
       "1   3013          22    1.0   39.832524   23.169223            8.0      7   \n",
       "2   8215           1    3.0   78.342215   47.671972           10.0      2   \n",
       "3   2352           1    1.0   40.409907         NaN            1.0     10   \n",
       "\n",
       "   HouseFloor  HouseYear  Ecology_1 Ecology_2 Ecology_3  Social_1  Social_2  \\\n",
       "0        10.0       2014   0.075424         B         B        11      3097   \n",
       "1         8.0       1966   0.118537         B         B        30      6207   \n",
       "2        17.0       1988   0.025609         B         B        33      5261   \n",
       "3        22.0       1977   0.007122         B         B         1       264   \n",
       "\n",
       "   Social_3  Healthcare_1  Helthcare_2  Shops_1 Shops_2          Price  \n",
       "0         0           NaN            0        0       B  305018.871089  \n",
       "1         1        1183.0            1        0       B  177734.553407  \n",
       "2         0         240.0            3        1       B  282078.720850  \n",
       "3         0           NaN            0        1       B  168106.007630  "
      ]
     },
     "execution_count": 3,
     "metadata": {},
     "output_type": "execute_result"
    }
   ],
   "source": [
    "df = pd.read_csv(TRAIN_DATA_PATH, sep=',')\n",
    "df.head(4)"
   ]
  },
  {
   "cell_type": "markdown",
   "id": "230298b9-29fd-4851-b666-cd44563a25e3",
   "metadata": {},
   "source": [
    "## Еда"
   ]
  },
  {
   "cell_type": "markdown",
   "id": "8a4352df-e4a8-483d-a1e6-abccef57888e",
   "metadata": {},
   "source": [
    "Приятного аппетита!"
   ]
  },
  {
   "cell_type": "markdown",
   "id": "b1c339b9",
   "metadata": {},
   "source": [
    "Проверим, какие признаки сильно коррелируются. Для линейной модели линейная корреляция является проблемой. UPD: Я больше не использую линейную модель, поэтому это не актуально"
   ]
  },
  {
   "cell_type": "code",
   "execution_count": 55,
   "id": "91dcf062",
   "metadata": {},
   "outputs": [
    {
     "data": {
      "text/plain": [
       "<AxesSubplot:>"
      ]
     },
     "execution_count": 55,
     "metadata": {},
     "output_type": "execute_result"
    },
    {
     "data": {
      "image/png": "[encoded data removed]",
      "text/plain": [
       "<Figure size 720x576 with 2 Axes>"
      ]
     },
     "metadata": {},
     "output_type": "display_data"
    }
   ],
   "source": [
    "# Порог, после которого пара признаков считается сильно кореллирующей\n",
    "high_correlation_threshold = 0.75\n",
    "\n",
    "corr_matrix = np.round(df.corr(), 2)\n",
    "corr_matrix[np.abs(corr_matrix) < high_correlation_threshold] = 0\n",
    "\n",
    "plt.figure(figsize = (10,8))\n",
    "sns.set(font_scale=1.2)\n",
    "sns.heatmap(corr_matrix, annot=True, linewidths=.5, cmap='coolwarm')"
   ]
  },
  {
   "cell_type": "markdown",
   "id": "38f93b18",
   "metadata": {},
   "source": [
    "Выведем пары сильно кореллирующих значений. Один признак из каждой пары удалим на этапе подготовки данных"
   ]
  },
  {
   "cell_type": "code",
   "execution_count": 5,
   "id": "72f50a66",
   "metadata": {},
   "outputs": [
    {
     "name": "stdout",
     "output_type": "stream",
     "text": [
      "Social_2 Social_1\n"
     ]
    }
   ],
   "source": [
    "for column in corr_matrix.columns:\n",
    "    column_loc = corr_matrix.columns.get_loc(column)\n",
    "    for row in range(len(corr_matrix.columns)):\n",
    "        # После диагональной линии идет отзеркаленная часть,\n",
    "        # не будем её рассматривать\n",
    "        if column_loc == row:\n",
    "            break\n",
    "        if corr_matrix.iloc[row, column_loc] != 0:\n",
    "            print(f\"{column} {corr_matrix.columns[row]}\")"
   ]
  },
  {
   "cell_type": "markdown",
   "id": "7d83cbce-4340-41ad-b166-967236a7ebba",
   "metadata": {},
   "source": [
    "## Подготовка данных"
   ]
  },
  {
   "cell_type": "markdown",
   "id": "bb579269-194c-4287-9529-6f7d4a64ef6a",
   "metadata": {},
   "source": [
    "Изменим типы данных для сокращение потребляемой памяти. Для этого я буду использовать готовую функцию из вебинара"
   ]
  },
  {
   "cell_type": "code",
   "execution_count": 6,
   "id": "a9bcba04-2d8c-4220-83c9-bd1b7bfdf059",
   "metadata": {},
   "outputs": [],
   "source": [
    "def reduce_mem_usage(df):\n",
    "    \"\"\" iterate through all the columns of a dataframe and modify the data type\n",
    "        to reduce memory usage.        \n",
    "    \"\"\"\n",
    "    start_mem = df.memory_usage().sum() / 1024**2\n",
    "    print('Memory usage of dataframe is {:.2f} MB'.format(start_mem))\n",
    "    \n",
    "    for col in df.columns:\n",
    "        col_type = df[col].dtype\n",
    "        \n",
    "        if col_type != object:\n",
    "            c_min = df[col].min()\n",
    "            c_max = df[col].max()\n",
    "            if str(col_type)[:3] == 'int':\n",
    "                if c_min > np.iinfo(np.int8).min and c_max < np.iinfo(np.int8).max:\n",
    "                    df[col] = df[col].astype(np.int8)\n",
    "                elif c_min > np.iinfo(np.int16).min and c_max < np.iinfo(np.int16).max:\n",
    "                    df[col] = df[col].astype(np.int16)\n",
    "                elif c_min > np.iinfo(np.int32).min and c_max < np.iinfo(np.int32).max:\n",
    "                    df[col] = df[col].astype(np.int32)\n",
    "                elif c_min > np.iinfo(np.int64).min and c_max < np.iinfo(np.int64).max:\n",
    "                    df[col] = df[col].astype(np.int64)  \n",
    "            else:\n",
    "                if c_min > np.finfo(np.float32).min and c_max < np.finfo(np.float32).max:\n",
    "                    df[col] = df[col].astype(np.float32)\n",
    "                else:\n",
    "                    df[col] = df[col].astype(np.float64)\n",
    "\n",
    "    end_mem = df.memory_usage().sum() / 1024**2\n",
    "    print('Memory usage after optimization is: {:.2f} MB'.format(end_mem))\n",
    "    print('Decreased by {:.1f}%'.format(100 * (start_mem - end_mem) / start_mem))\n",
    "    \n",
    "    return df"
   ]
  },
  {
   "cell_type": "code",
   "execution_count": 7,
   "id": "cdc9606d-5baa-4b75-ac19-b40b460defe5",
   "metadata": {},
   "outputs": [
    {
     "name": "stdout",
     "output_type": "stream",
     "text": [
      "Memory usage of dataframe is 1.53 MB\n",
      "Memory usage after optimization is: 0.69 MB\n",
      "Decreased by 55.0%\n"
     ]
    }
   ],
   "source": [
    "df = reduce_mem_usage(df)"
   ]
  },
  {
   "cell_type": "markdown",
   "id": "cc2bd6ff",
   "metadata": {},
   "source": [
    "Добавим функцию обнаружения выбросов по алгоритму Z-Score"
   ]
  },
  {
   "cell_type": "code",
   "execution_count": 8,
   "id": "1503a4c8",
   "metadata": {},
   "outputs": [],
   "source": [
    "def zscore(column):\n",
    "    outliers = []\n",
    "    threshold = 3.5\n",
    "    mean = column.mean()\n",
    "    std = column.std()\n",
    "    for cell in column:\n",
    "        z_score = (cell - mean) / std\n",
    "        if np.abs(z_score) > threshold:\n",
    "            outliers.append(cell)\n",
    "    return outliers"
   ]
  },
  {
   "cell_type": "markdown",
   "id": "32232794",
   "metadata": {},
   "source": [
    "Добавим функцию конвертации категориальных переменных в дамми"
   ]
  },
  {
   "cell_type": "code",
   "execution_count": 9,
   "id": "4b859e34",
   "metadata": {},
   "outputs": [],
   "source": [
    "def convert_to_dummies(df, col):\n",
    "    if col not in df.columns:\n",
    "        return df\n",
    "    \n",
    "    new_df = pd.concat([df, pd.get_dummies(df[col], prefix=col)], axis=1)\n",
    "    new_df.drop(col, axis=1, inplace=True)\n",
    "    return new_df"
   ]
  },
  {
   "cell_type": "markdown",
   "id": "c57024a6-8b43-4b60-bdf7-31f8beb9243c",
   "metadata": {},
   "source": [
    "Поделим данные на тренировочную и тестовую выборку"
   ]
  },
  {
   "cell_type": "code",
   "execution_count": 76,
   "id": "0e06fbe8-478d-40e2-a755-67bb6a58a83f",
   "metadata": {},
   "outputs": [],
   "source": [
    "from sklearn.model_selection import train_test_split\n",
    "\n",
    "\n",
    "X = df.drop(\"Price\", axis=1) # Признаки\n",
    "y = df[\"Price\"] # Целевая переменная\n",
    "\n",
    "X_train, X_test, y_train, y_test = train_test_split(X, y, test_size=0.3, random_state=42)"
   ]
  },
  {
   "cell_type": "markdown",
   "id": "0858a707",
   "metadata": {},
   "source": [
    "Подготовим данные"
   ]
  },
  {
   "cell_type": "code",
   "execution_count": 77,
   "id": "d5ef3c82",
   "metadata": {},
   "outputs": [],
   "source": [
    "from sklearn.decomposition import PCA\n",
    "\n",
    "\n",
    "class DataPipeline:\n",
    "    \"\"\"Подготовка исходных данных\"\"\"\n",
    "    \n",
    "    def __init__(self):\n",
    "        \"\"\"Параметры класса\"\"\"\n",
    "        \n",
    "        self.cols_to_drop = None\n",
    "        # Медиана, а не среднее арифметическое, потому что медиана\n",
    "        # не смещается из-за выбросов\n",
    "        self.medians = None\n",
    "        self.cols_with_missing = None\n",
    "        self.initial = None\n",
    "        \n",
    "        # Районы\n",
    "        self.district_median_price_per_square = None\n",
    "        self.district_median_square = None\n",
    "        self.district_median_year = None\n",
    "        \n",
    "    def fit(self, df, y):\n",
    "        \"\"\"Сохранение статистик\"\"\"\n",
    "        \n",
    "        # Создадим пары признаков на слияние\n",
    "        \n",
    "        self.merge_features = [\n",
    "            [\"Social_1\", \"Social_2\"]\n",
    "        ]\n",
    "        \n",
    "        # Отметим столбцы с незаполненными ячейками\n",
    "        \n",
    "        self.cols_with_missing = [col for col in df.columns \n",
    "                                 if df[col].isnull().any()]\n",
    "        \n",
    "        # Скопируем нужные признаки из изначального состояния\n",
    "        \n",
    "        \"\"\"self.initial = df.copy()\n",
    "        for col in df.columns:\n",
    "            if df[col].dtype == 'object' or col in self.cols_to_drop:\n",
    "                self.initial.drop(col, axis=1, inplace=True)\n",
    "        \"\"\"\n",
    "                \n",
    "        self.initial = pd.DataFrame(None, columns=[col for col in df.columns\n",
    "                                                   if df[col].dtype != 'object'])\n",
    "        \n",
    "        # Раcчитаем медианные значения\n",
    "        \n",
    "        self.medians = {}\n",
    "        for col in self.initial.columns:\n",
    "            self.medians[col] = df[col].median()\n",
    "            \n",
    "        # Расчитаем матрицу корреляции признаков\n",
    "        \"\"\"\n",
    "        self.initial_corr = self.initial.corr()\n",
    "        \"\"\"\n",
    "        \n",
    "        # Расчитаем медианные значения районов\n",
    "        \n",
    "        self.district_median_square = df.groupby(['DistrictId'])['Square'].agg('median')\n",
    "        self.district_median_year = df.groupby(['DistrictId'])['HouseYear'].agg('median')\n",
    "        df_with_price = df.copy()\n",
    "        df_with_price['Price'] = y\n",
    "        self.district_median_price_per_square = df_with_price.groupby(['DistrictId'])['Price'].agg('median') \\\n",
    "            / self.district_median_square\n",
    "        \n",
    "    def transform(self, df):\n",
    "        \"\"\"Трансформация данных\"\"\"\n",
    "        \n",
    "        # 1. Пропуски\n",
    "        \n",
    "        for col in self.cols_with_missing:\n",
    "            df[col + '_was_missing'] = df[col].isnull()\n",
    "            df[col].fillna(self.medians[col], inplace=True)\n",
    "            \n",
    "            \"\"\" # Этот код понижает точность модели до 0.66\n",
    "            \n",
    "            corr_with = [i for i in range(len(self.initial_corr.columns))\n",
    "                         if self.initial_corr.iloc[i, self.initial_corr.columns.to_list().index(col)] > 0.5]\n",
    "            df_column_list = df.columns.to_list()\n",
    "            \n",
    "            for row in range(len(df[col])):\n",
    "                values = [self.initial.iloc[row, i] for i in corr_with]\n",
    "                values.append(self.medians[col])\n",
    "                df.iloc[row, df_column_list.index(col)] = np.nanmean(np.asarray(values))\n",
    "            \"\"\"\n",
    "        \n",
    "        # 2. Выбросы\n",
    "        \n",
    "        for col in self.initial.columns:\n",
    "            df.loc[df[col].isin(zscore(df[col])), col] = self.medians[col]\n",
    "        \n",
    "        # 3. Новые признаки\n",
    "        \n",
    "        features_to_dummy = [\n",
    "            \"Ecology_2\", \"Ecology_3\", \"Shops_2\"\n",
    "        ]\n",
    "        \n",
    "        for feature in features_to_dummy:\n",
    "            df = convert_to_dummies(df, feature)\n",
    "        \n",
    "        df['DistrictPricePerSquare'] = df['DistrictId'].map(self.district_median_price_per_square)\n",
    "        df['DistrictSquare'] = df['DistrictId'].map(self.district_median_square)\n",
    "        df['DistrictYear'] = df['DistrictId'].map(self.district_median_year)\n",
    "        \n",
    "        # Некоторые значение всё еще не заполнены\n",
    "        \n",
    "        new_cols_to_fillna = [\n",
    "            'DistrictPricePerSquare', 'DistrictSquare', 'DistrictYear'\n",
    "        ]\n",
    "        \n",
    "        for col in new_cols_to_fillna:\n",
    "            df[col].fillna(df[col].median(), inplace=True)\n",
    "            \n",
    "        # 4. Линейно кореллирующие признаки\n",
    "        # Как показывает практика, их стоит удалять не только\n",
    "        # при использовании линейной модели\n",
    "        \n",
    "        pca = PCA(n_components=1, random_state=42)\n",
    "        \n",
    "        for corr_features in self.merge_features:\n",
    "            df['_'.join(corr_features)] = pca.fit_transform(df[corr_features])\n",
    "            df.drop(corr_features, axis=1, inplace=True)\n",
    "        \n",
    "        # 5. Удаление уникальных идентификаторов наблюдений\n",
    "        \n",
    "        df.drop(\"Id\", axis=1, inplace=True)\n",
    "        \n",
    "        return df"
   ]
  },
  {
   "cell_type": "code",
   "execution_count": 78,
   "id": "45a55a72",
   "metadata": {},
   "outputs": [
    {
     "name": "stderr",
     "output_type": "stream",
     "text": [
      "<ipython-input-77-a6730f05de6a>:73: SettingWithCopyWarning: \n",
      "A value is trying to be set on a copy of a slice from a DataFrame.\n",
      "Try using .loc[row_indexer,col_indexer] = value instead\n",
      "\n",
      "See the caveats in the documentation: https://pandas.pydata.org/pandas-docs/stable/user_guide/indexing.html#returning-a-view-versus-a-copy\n",
      "  df[col + '_was_missing'] = df[col].isnull()\n",
      "c:\\users\\blaze\\scoop\\apps\\python\\3.9.1\\lib\\site-packages\\pandas\\core\\series.py:4463: SettingWithCopyWarning: \n",
      "A value is trying to be set on a copy of a slice from a DataFrame\n",
      "\n",
      "See the caveats in the documentation: https://pandas.pydata.org/pandas-docs/stable/user_guide/indexing.html#returning-a-view-versus-a-copy\n",
      "  return super().fillna(\n",
      "c:\\users\\blaze\\scoop\\apps\\python\\3.9.1\\lib\\site-packages\\pandas\\core\\indexing.py:1720: SettingWithCopyWarning: \n",
      "A value is trying to be set on a copy of a slice from a DataFrame.\n",
      "Try using .loc[row_indexer,col_indexer] = value instead\n",
      "\n",
      "See the caveats in the documentation: https://pandas.pydata.org/pandas-docs/stable/user_guide/indexing.html#returning-a-view-versus-a-copy\n",
      "  self._setitem_single_column(loc, value, pi)\n",
      "<ipython-input-77-a6730f05de6a>:73: SettingWithCopyWarning: \n",
      "A value is trying to be set on a copy of a slice from a DataFrame.\n",
      "Try using .loc[row_indexer,col_indexer] = value instead\n",
      "\n",
      "See the caveats in the documentation: https://pandas.pydata.org/pandas-docs/stable/user_guide/indexing.html#returning-a-view-versus-a-copy\n",
      "  df[col + '_was_missing'] = df[col].isnull()\n",
      "c:\\users\\blaze\\scoop\\apps\\python\\3.9.1\\lib\\site-packages\\pandas\\core\\series.py:4463: SettingWithCopyWarning: \n",
      "A value is trying to be set on a copy of a slice from a DataFrame\n",
      "\n",
      "See the caveats in the documentation: https://pandas.pydata.org/pandas-docs/stable/user_guide/indexing.html#returning-a-view-versus-a-copy\n",
      "  return super().fillna(\n",
      "c:\\users\\blaze\\scoop\\apps\\python\\3.9.1\\lib\\site-packages\\pandas\\core\\indexing.py:1720: SettingWithCopyWarning: \n",
      "A value is trying to be set on a copy of a slice from a DataFrame.\n",
      "Try using .loc[row_indexer,col_indexer] = value instead\n",
      "\n",
      "See the caveats in the documentation: https://pandas.pydata.org/pandas-docs/stable/user_guide/indexing.html#returning-a-view-versus-a-copy\n",
      "  self._setitem_single_column(loc, value, pi)\n"
     ]
    }
   ],
   "source": [
    "pipe = DataPipeline()\n",
    "pipe.fit(X_train, y_train)\n",
    "X_train = pipe.transform(X_train)\n",
    "X_test = pipe.transform(X_test)"
   ]
  },
  {
   "cell_type": "code",
   "execution_count": 81,
   "id": "cd138ba4",
   "metadata": {},
   "outputs": [
    {
     "data": {
      "text/html": [
       "<div>\n",
       "<style scoped>\n",
       "    .dataframe tbody tr th:only-of-type {\n",
       "        vertical-align: middle;\n",
       "    }\n",
       "\n",
       "    .dataframe tbody tr th {\n",
       "        vertical-align: top;\n",
       "    }\n",
       "\n",
       "    .dataframe thead th {\n",
       "        text-align: right;\n",
       "    }\n",
       "</style>\n",
       "<table border=\"1\" class=\"dataframe\">\n",
       "  <thead>\n",
       "    <tr style=\"text-align: right;\">\n",
       "      <th></th>\n",
       "      <th>DistrictId</th>\n",
       "      <th>Rooms</th>\n",
       "      <th>Square</th>\n",
       "      <th>LifeSquare</th>\n",
       "      <th>KitchenSquare</th>\n",
       "      <th>Floor</th>\n",
       "      <th>HouseFloor</th>\n",
       "      <th>HouseYear</th>\n",
       "      <th>Ecology_1</th>\n",
       "      <th>Social_3</th>\n",
       "      <th>...</th>\n",
       "      <th>Ecology_2_A</th>\n",
       "      <th>Ecology_2_B</th>\n",
       "      <th>Ecology_3_A</th>\n",
       "      <th>Ecology_3_B</th>\n",
       "      <th>Shops_2_A</th>\n",
       "      <th>Shops_2_B</th>\n",
       "      <th>DistrictPricePerSquare</th>\n",
       "      <th>DistrictSquare</th>\n",
       "      <th>DistrictYear</th>\n",
       "      <th>Social_1_Social_2</th>\n",
       "    </tr>\n",
       "  </thead>\n",
       "  <tbody>\n",
       "    <tr>\n",
       "      <th>9069</th>\n",
       "      <td>31.0</td>\n",
       "      <td>1.0</td>\n",
       "      <td>38.234364</td>\n",
       "      <td>20.008121</td>\n",
       "      <td>8.0</td>\n",
       "      <td>6.0</td>\n",
       "      <td>3.0</td>\n",
       "      <td>1977.0</td>\n",
       "      <td>0.000000</td>\n",
       "      <td>2.0</td>\n",
       "      <td>...</td>\n",
       "      <td>0</td>\n",
       "      <td>1</td>\n",
       "      <td>0</td>\n",
       "      <td>1</td>\n",
       "      <td>0</td>\n",
       "      <td>1</td>\n",
       "      <td>5092.528809</td>\n",
       "      <td>56.915462</td>\n",
       "      <td>1977.0</td>\n",
       "      <td>-1658.085937</td>\n",
       "    </tr>\n",
       "    <tr>\n",
       "      <th>2603</th>\n",
       "      <td>11.0</td>\n",
       "      <td>1.0</td>\n",
       "      <td>31.309444</td>\n",
       "      <td>24.479166</td>\n",
       "      <td>5.0</td>\n",
       "      <td>1.0</td>\n",
       "      <td>5.0</td>\n",
       "      <td>1969.0</td>\n",
       "      <td>0.038693</td>\n",
       "      <td>1.0</td>\n",
       "      <td>...</td>\n",
       "      <td>0</td>\n",
       "      <td>1</td>\n",
       "      <td>0</td>\n",
       "      <td>1</td>\n",
       "      <td>0</td>\n",
       "      <td>1</td>\n",
       "      <td>4214.781250</td>\n",
       "      <td>48.642700</td>\n",
       "      <td>1973.0</td>\n",
       "      <td>1190.910077</td>\n",
       "    </tr>\n",
       "    <tr>\n",
       "      <th>7738</th>\n",
       "      <td>123.0</td>\n",
       "      <td>2.0</td>\n",
       "      <td>47.234447</td>\n",
       "      <td>19.363581</td>\n",
       "      <td>6.0</td>\n",
       "      <td>2.0</td>\n",
       "      <td>12.0</td>\n",
       "      <td>1980.0</td>\n",
       "      <td>0.000000</td>\n",
       "      <td>0.0</td>\n",
       "      <td>...</td>\n",
       "      <td>0</td>\n",
       "      <td>1</td>\n",
       "      <td>0</td>\n",
       "      <td>1</td>\n",
       "      <td>0</td>\n",
       "      <td>1</td>\n",
       "      <td>4724.039551</td>\n",
       "      <td>68.493011</td>\n",
       "      <td>2005.5</td>\n",
       "      <td>5976.947685</td>\n",
       "    </tr>\n",
       "  </tbody>\n",
       "</table>\n",
       "<p>3 rows × 25 columns</p>\n",
       "</div>"
      ],
      "text/plain": [
       "      DistrictId  Rooms     Square  LifeSquare  KitchenSquare  Floor  \\\n",
       "9069        31.0    1.0  38.234364   20.008121            8.0    6.0   \n",
       "2603        11.0    1.0  31.309444   24.479166            5.0    1.0   \n",
       "7738       123.0    2.0  47.234447   19.363581            6.0    2.0   \n",
       "\n",
       "      HouseFloor  HouseYear  Ecology_1  Social_3  ...  Ecology_2_A  \\\n",
       "9069         3.0     1977.0   0.000000       2.0  ...            0   \n",
       "2603         5.0     1969.0   0.038693       1.0  ...            0   \n",
       "7738        12.0     1980.0   0.000000       0.0  ...            0   \n",
       "\n",
       "      Ecology_2_B  Ecology_3_A  Ecology_3_B  Shops_2_A  Shops_2_B  \\\n",
       "9069            1            0            1          0          1   \n",
       "2603            1            0            1          0          1   \n",
       "7738            1            0            1          0          1   \n",
       "\n",
       "      DistrictPricePerSquare  DistrictSquare  DistrictYear  Social_1_Social_2  \n",
       "9069             5092.528809       56.915462        1977.0       -1658.085937  \n",
       "2603             4214.781250       48.642700        1973.0        1190.910077  \n",
       "7738             4724.039551       68.493011        2005.5        5976.947685  \n",
       "\n",
       "[3 rows x 25 columns]"
      ]
     },
     "execution_count": 81,
     "metadata": {},
     "output_type": "execute_result"
    }
   ],
   "source": [
    "X_train.head(3)"
   ]
  },
  {
   "cell_type": "markdown",
   "id": "e5ee996c-62e7-4082-9830-31608abfeaed",
   "metadata": {},
   "source": [
    "Визуализируем два корреллирующих признака. Где диагональная линия, там сильная корреляция. Хвостики это заполненные пропущенные значения. Я пробовал по умному их заполнить, но сильно понизил точность модели, поэтому я закоментировал этот код"
   ]
  },
  {
   "cell_type": "code",
   "execution_count": 14,
   "id": "663b74d4-c230-4eb3-be50-8ff2bf3ea7bc",
   "metadata": {},
   "outputs": [
    {
     "data": {
      "image/png": "[encoded data removed]",
      "text/plain": [
       "<Figure size 432x288 with 1 Axes>"
      ]
     },
     "metadata": {},
     "output_type": "display_data"
    }
   ],
   "source": [
    "# ls_color = X_train[\"LifeSquare_was_missing\"]\n",
    "plt.scatter(x=X_train[\"LifeSquare\"], y=X_train[\"Square\"])\n",
    "plt.show()"
   ]
  },
  {
   "cell_type": "markdown",
   "id": "c286901a-f03f-4e29-bf7d-1652c4860afd",
   "metadata": {},
   "source": [
    "Перед обучением стандартизируем признаки. Я не буду стандартизировать, у меня с этим проблема: точность модели понижается до -2.5"
   ]
  },
  {
   "cell_type": "code",
   "execution_count": 15,
   "id": "a00c8734-4d45-4303-bcf1-ebf6ac959f73",
   "metadata": {},
   "outputs": [],
   "source": [
    "from sklearn.preprocessing import StandardScaler\n",
    "\n",
    "\n",
    "# scaler = StandardScaler()\n",
    "# scaler.fit(X_train)\n",
    "# X_train = pd.DataFrame(scaler.transform(X_train), columns=X_train.columns)\n",
    "# X_test = pd.DataFrame(scaler.transform(X_test), columns=X_test.columns)"
   ]
  },
  {
   "cell_type": "markdown",
   "id": "096b6e4e-fb99-4560-8a22-6bc4e8935a0a",
   "metadata": {},
   "source": [
    "## Обучение и предсказание"
   ]
  },
  {
   "cell_type": "markdown",
   "id": "f4809b51",
   "metadata": {},
   "source": [
    "По сетке найдем наилучшую конфигурацию модели градиентного бустинга, используя кросс валидацию"
   ]
  },
  {
   "cell_type": "code",
   "execution_count": 16,
   "id": "56c070a5",
   "metadata": {},
   "outputs": [],
   "source": [
    "from sklearn.ensemble import GradientBoostingRegressor\n",
    "from sklearn.model_selection import KFold, GridSearchCV\n",
    "\n",
    "\n",
    "params = {'n_estimators':[50, 100, 200, 400], \n",
    "          'max_depth':[3, 5, 7, 10]}\n",
    "\n",
    "gs = GridSearchCV(GradientBoostingRegressor(criterion='mse',\n",
    "                                     min_samples_leaf=10,\n",
    "                                     random_state=42),\n",
    "                  params, # список возможных параметров\n",
    "                  scoring='r2', # метрика качества \n",
    "                  cv=KFold(n_splits=5, # количество разбиений в кросс-валидации\n",
    "                           random_state=42, \n",
    "                           shuffle=True), # перемешаем данные\n",
    "                  n_jobs=-1) # используем все ядра процессора\n",
    "\n",
    "# Я закометирую строчки с обучением, чтобы случайно не запустились.\n",
    "# Обучение и кросс валидация очень долго длятся, а лучшие\n",
    "# гиперпараметры уже извесны\n",
    "\n",
    "# gs.fit(X_train, y_train)\n",
    "# gs.best_params_ # получим наилучш"
   ]
  },
  {
   "cell_type": "markdown",
   "id": "4a27d125-2d06-4cac-8fe6-584486f40339",
   "metadata": {},
   "source": [
    "Посмотрим оценку кросс валидации наилучшей модели на тренировочных данных"
   ]
  },
  {
   "cell_type": "code",
   "execution_count": 17,
   "id": "3ef1d893-d6f6-40f7-a8d5-25fe4c06223e",
   "metadata": {},
   "outputs": [],
   "source": [
    "# gs.best_score_"
   ]
  },
  {
   "cell_type": "markdown",
   "id": "d097b06c-7b42-4cb3-826c-a1f5d2f558bc",
   "metadata": {},
   "source": [
    "Создадим и обучим модель градиентного бустинга с ~~наилучшей конфигурацией~~ конфигурацией из другого нотбука"
   ]
  },
  {
   "cell_type": "code",
   "execution_count": 79,
   "id": "315b4d02-9945-45ab-bce0-c582fa874794",
   "metadata": {},
   "outputs": [
    {
     "data": {
      "text/plain": [
       "GradientBoostingRegressor(criterion='mse', learning_rate=0.025, loss='huber',\n",
       "                          max_depth=6, max_features='sqrt', min_samples_leaf=50,\n",
       "                          n_estimators=2250, random_state=42)"
      ]
     },
     "execution_count": 79,
     "metadata": {},
     "output_type": "execute_result"
    }
   ],
   "source": [
    "model = GradientBoostingRegressor(criterion='mse',\n",
    "                                  max_depth=6,\n",
    "                                  min_samples_leaf=50,\n",
    "                                  random_state=42,  \n",
    "                                  n_estimators=2250,\n",
    "                                  learning_rate=0.025,\n",
    "                                  max_features='sqrt',\n",
    "                                  loss='huber')\n",
    "model.fit(X_train, y_train)"
   ]
  },
  {
   "cell_type": "markdown",
   "id": "47b19fd6-989b-40e8-9034-a002a0864f0b",
   "metadata": {},
   "source": [
    "Загрузим тестовые данные и обработаем их"
   ]
  },
  {
   "cell_type": "code",
   "execution_count": 82,
   "id": "70b961f2-9596-4c88-a922-68dc02694c11",
   "metadata": {},
   "outputs": [
    {
     "data": {
      "text/html": [
       "<div>\n",
       "<style scoped>\n",
       "    .dataframe tbody tr th:only-of-type {\n",
       "        vertical-align: middle;\n",
       "    }\n",
       "\n",
       "    .dataframe tbody tr th {\n",
       "        vertical-align: top;\n",
       "    }\n",
       "\n",
       "    .dataframe thead th {\n",
       "        text-align: right;\n",
       "    }\n",
       "</style>\n",
       "<table border=\"1\" class=\"dataframe\">\n",
       "  <thead>\n",
       "    <tr style=\"text-align: right;\">\n",
       "      <th></th>\n",
       "      <th>DistrictId</th>\n",
       "      <th>Rooms</th>\n",
       "      <th>Square</th>\n",
       "      <th>LifeSquare</th>\n",
       "      <th>KitchenSquare</th>\n",
       "      <th>Floor</th>\n",
       "      <th>HouseFloor</th>\n",
       "      <th>HouseYear</th>\n",
       "      <th>Ecology_1</th>\n",
       "      <th>Social_3</th>\n",
       "      <th>...</th>\n",
       "      <th>Ecology_2_A</th>\n",
       "      <th>Ecology_2_B</th>\n",
       "      <th>Ecology_3_A</th>\n",
       "      <th>Ecology_3_B</th>\n",
       "      <th>Shops_2_A</th>\n",
       "      <th>Shops_2_B</th>\n",
       "      <th>DistrictPricePerSquare</th>\n",
       "      <th>DistrictSquare</th>\n",
       "      <th>DistrictYear</th>\n",
       "      <th>Social_1_Social_2</th>\n",
       "    </tr>\n",
       "  </thead>\n",
       "  <tbody>\n",
       "    <tr>\n",
       "      <th>0</th>\n",
       "      <td>44.0</td>\n",
       "      <td>1.0</td>\n",
       "      <td>36.847630</td>\n",
       "      <td>19.094182</td>\n",
       "      <td>5.0</td>\n",
       "      <td>5.0</td>\n",
       "      <td>9.0</td>\n",
       "      <td>1970.0</td>\n",
       "      <td>0.036122</td>\n",
       "      <td>0.0</td>\n",
       "      <td>...</td>\n",
       "      <td>0</td>\n",
       "      <td>1</td>\n",
       "      <td>0</td>\n",
       "      <td>1</td>\n",
       "      <td>0</td>\n",
       "      <td>1</td>\n",
       "      <td>4475.790527</td>\n",
       "      <td>46.209560</td>\n",
       "      <td>1974.0</td>\n",
       "      <td>-1028.894976</td>\n",
       "    </tr>\n",
       "    <tr>\n",
       "      <th>1</th>\n",
       "      <td>62.0</td>\n",
       "      <td>1.0</td>\n",
       "      <td>42.493907</td>\n",
       "      <td>42.568133</td>\n",
       "      <td>10.0</td>\n",
       "      <td>7.0</td>\n",
       "      <td>17.0</td>\n",
       "      <td>2017.0</td>\n",
       "      <td>0.072158</td>\n",
       "      <td>1.0</td>\n",
       "      <td>...</td>\n",
       "      <td>0</td>\n",
       "      <td>1</td>\n",
       "      <td>0</td>\n",
       "      <td>1</td>\n",
       "      <td>1</td>\n",
       "      <td>0</td>\n",
       "      <td>2814.751709</td>\n",
       "      <td>56.840710</td>\n",
       "      <td>1977.0</td>\n",
       "      <td>-4777.954067</td>\n",
       "    </tr>\n",
       "    <tr>\n",
       "      <th>2</th>\n",
       "      <td>27.0</td>\n",
       "      <td>2.0</td>\n",
       "      <td>59.463678</td>\n",
       "      <td>32.616951</td>\n",
       "      <td>9.0</td>\n",
       "      <td>19.0</td>\n",
       "      <td>19.0</td>\n",
       "      <td>1977.0</td>\n",
       "      <td>0.211401</td>\n",
       "      <td>0.0</td>\n",
       "      <td>...</td>\n",
       "      <td>0</td>\n",
       "      <td>1</td>\n",
       "      <td>0</td>\n",
       "      <td>1</td>\n",
       "      <td>0</td>\n",
       "      <td>1</td>\n",
       "      <td>2661.375244</td>\n",
       "      <td>54.829494</td>\n",
       "      <td>1977.0</td>\n",
       "      <td>-3514.935873</td>\n",
       "    </tr>\n",
       "    <tr>\n",
       "      <th>3</th>\n",
       "      <td>23.0</td>\n",
       "      <td>3.0</td>\n",
       "      <td>49.646030</td>\n",
       "      <td>33.893825</td>\n",
       "      <td>6.0</td>\n",
       "      <td>2.0</td>\n",
       "      <td>2.0</td>\n",
       "      <td>1965.0</td>\n",
       "      <td>0.014073</td>\n",
       "      <td>0.0</td>\n",
       "      <td>...</td>\n",
       "      <td>0</td>\n",
       "      <td>1</td>\n",
       "      <td>0</td>\n",
       "      <td>1</td>\n",
       "      <td>0</td>\n",
       "      <td>1</td>\n",
       "      <td>2099.979004</td>\n",
       "      <td>54.245842</td>\n",
       "      <td>1977.0</td>\n",
       "      <td>-4931.952734</td>\n",
       "    </tr>\n",
       "  </tbody>\n",
       "</table>\n",
       "<p>4 rows × 25 columns</p>\n",
       "</div>"
      ],
      "text/plain": [
       "   DistrictId  Rooms     Square  LifeSquare  KitchenSquare  Floor  HouseFloor  \\\n",
       "0        44.0    1.0  36.847630   19.094182            5.0    5.0         9.0   \n",
       "1        62.0    1.0  42.493907   42.568133           10.0    7.0        17.0   \n",
       "2        27.0    2.0  59.463678   32.616951            9.0   19.0        19.0   \n",
       "3        23.0    3.0  49.646030   33.893825            6.0    2.0         2.0   \n",
       "\n",
       "   HouseYear  Ecology_1  Social_3  ...  Ecology_2_A  Ecology_2_B  Ecology_3_A  \\\n",
       "0     1970.0   0.036122       0.0  ...            0            1            0   \n",
       "1     2017.0   0.072158       1.0  ...            0            1            0   \n",
       "2     1977.0   0.211401       0.0  ...            0            1            0   \n",
       "3     1965.0   0.014073       0.0  ...            0            1            0   \n",
       "\n",
       "   Ecology_3_B  Shops_2_A  Shops_2_B  DistrictPricePerSquare  DistrictSquare  \\\n",
       "0            1          0          1             4475.790527       46.209560   \n",
       "1            1          1          0             2814.751709       56.840710   \n",
       "2            1          0          1             2661.375244       54.829494   \n",
       "3            1          0          1             2099.979004       54.245842   \n",
       "\n",
       "   DistrictYear  Social_1_Social_2  \n",
       "0        1974.0       -1028.894976  \n",
       "1        1977.0       -4777.954067  \n",
       "2        1977.0       -3514.935873  \n",
       "3        1977.0       -4931.952734  \n",
       "\n",
       "[4 rows x 25 columns]"
      ]
     },
     "execution_count": 82,
     "metadata": {},
     "output_type": "execute_result"
    }
   ],
   "source": [
    "test_data = pd.read_csv(TEST_DATA_PATH, sep=',')\n",
    "\n",
    "# Сохраним ID всех строк. DataPipeline удалит столбец Id, но все строки оставит\n",
    "test_data_ids = test_data[\"Id\"]\n",
    "\n",
    "test_data = pipe.transform(test_data)\n",
    "test_data.head(4)"
   ]
  },
  {
   "cell_type": "markdown",
   "id": "4f61db43-022f-49ab-ba7a-cbb8242aa06b",
   "metadata": {},
   "source": [
    "Предскажем цену на недвижимость на этих данных"
   ]
  },
  {
   "cell_type": "code",
   "execution_count": 83,
   "id": "82484a72-bbe1-44ac-b0f5-8ffb0eec6301",
   "metadata": {},
   "outputs": [
    {
     "data": {
      "text/plain": [
       "array([168944.13057742, 117945.34170641, 135897.93641672, ...,\n",
       "       151506.72007433, 189067.73337835, 316789.68218643])"
      ]
     },
     "execution_count": 83,
     "metadata": {},
     "output_type": "execute_result"
    }
   ],
   "source": [
    "test_pred = model.predict(test_data)\n",
    "test_pred"
   ]
  },
  {
   "cell_type": "markdown",
   "id": "95c39d4d-2ab0-44b8-b285-3edf93d7dcfa",
   "metadata": {},
   "source": [
    "Преобразуем в формат, который распознаст Kaggle"
   ]
  },
  {
   "cell_type": "code",
   "execution_count": 84,
   "id": "3c8c6d84-b886-4bc3-91f7-c0475ba8f7d5",
   "metadata": {},
   "outputs": [
    {
     "data": {
      "text/html": [
       "<div>\n",
       "<style scoped>\n",
       "    .dataframe tbody tr th:only-of-type {\n",
       "        vertical-align: middle;\n",
       "    }\n",
       "\n",
       "    .dataframe tbody tr th {\n",
       "        vertical-align: top;\n",
       "    }\n",
       "\n",
       "    .dataframe thead th {\n",
       "        text-align: right;\n",
       "    }\n",
       "</style>\n",
       "<table border=\"1\" class=\"dataframe\">\n",
       "  <thead>\n",
       "    <tr style=\"text-align: right;\">\n",
       "      <th></th>\n",
       "      <th>Id</th>\n",
       "      <th>Price</th>\n",
       "    </tr>\n",
       "  </thead>\n",
       "  <tbody>\n",
       "    <tr>\n",
       "      <th>0</th>\n",
       "      <td>4567</td>\n",
       "      <td>168944.130577</td>\n",
       "    </tr>\n",
       "    <tr>\n",
       "      <th>1</th>\n",
       "      <td>5925</td>\n",
       "      <td>117945.341706</td>\n",
       "    </tr>\n",
       "    <tr>\n",
       "      <th>2</th>\n",
       "      <td>960</td>\n",
       "      <td>135897.936417</td>\n",
       "    </tr>\n",
       "    <tr>\n",
       "      <th>3</th>\n",
       "      <td>3848</td>\n",
       "      <td>95757.249998</td>\n",
       "    </tr>\n",
       "    <tr>\n",
       "      <th>4</th>\n",
       "      <td>746</td>\n",
       "      <td>170605.563838</td>\n",
       "    </tr>\n",
       "  </tbody>\n",
       "</table>\n",
       "</div>"
      ],
      "text/plain": [
       "     Id          Price\n",
       "0  4567  168944.130577\n",
       "1  5925  117945.341706\n",
       "2   960  135897.936417\n",
       "3  3848   95757.249998\n",
       "4   746  170605.563838"
      ]
     },
     "execution_count": 84,
     "metadata": {},
     "output_type": "execute_result"
    }
   ],
   "source": [
    "test_pred_output = pd.DataFrame({\"Id\": test_data_ids, \"Price\": test_pred})\n",
    "test_pred_output.head()"
   ]
  },
  {
   "cell_type": "markdown",
   "id": "56eea06e-aa67-4cc1-a950-7f49ff682dd4",
   "metadata": {},
   "source": [
    "Сохраним предсказания в файл"
   ]
  },
  {
   "cell_type": "code",
   "execution_count": 85,
   "id": "2fe9926e-5b49-42a8-87a5-584f935b6d1e",
   "metadata": {},
   "outputs": [],
   "source": [
    "test_pred_output.to_csv(\"submission.csv\", index=False)"
   ]
  }
 ],
 "metadata": {
  "kernelspec": {
   "display_name": "Python 3",
   "language": "python",
   "name": "python3"
  },
  "language_info": {
   "codemirror_mode": {
    "name": "ipython",
    "version": 3
   },
   "file_extension": ".py",
   "mimetype": "text/x-python",
   "name": "python",
   "nbconvert_exporter": "python",
   "pygments_lexer": "ipython3",
   "version": "3.9.1"
  }
 },
 "nbformat": 4,
 "nbformat_minor": 5
}
